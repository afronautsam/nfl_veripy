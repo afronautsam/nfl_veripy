{
    "cells": [
        {
            "attachments": {},
            "cell_type": "markdown",
            "id": "457df582",
            "metadata": {},
            "source": [
                "# Example of analyzing a neural feedback loop"
            ]
        },
        {
            "attachments": {},
            "cell_type": "markdown",
            "id": "bd9a6e2e",
            "metadata": {},
            "source": [
                "## Load libraries and set random seed"
            ]
        },
        {
            "cell_type": "code",
            "execution_count": 1,
            "id": "7ec1b587",
            "metadata": {},
            "outputs": [
                {
                    "name": "stderr",
                    "output_type": "stream",
                    "text": [
                        "/home/sam/miniconda3/envs/nfl_veripy/lib/python3.10/site-packages/tqdm/auto.py:21: TqdmWarning: IProgress not found. Please update jupyter and ipywidgets. See https://ipywidgets.readthedocs.io/en/stable/user_install.html\n",
                        "  from .autonotebook import tqdm as notebook_tqdm\n",
                        "No GPU/TPU found, falling back to CPU. (Set TF_CPP_MIN_LOG_LEVEL=0 and rerun for more info.)\n"
                    ]
                }
            ],
            "source": [
                "import numpy as np\n",
                "import nfl_veripy.dynamics as dynamics\n",
                "import nfl_veripy.analyzers as analyzers\n",
                "import nfl_veripy.constraints as constraints\n",
                "from nfl_veripy.utils.nn import load_controller, load_controller_unity\n",
                "from nfl_veripy.utils.utils import range_to_polytope, get_polytope_A"
            ]
        },
        {
            "cell_type": "code",
            "execution_count": 2,
            "id": "5c5ca3eb",
            "metadata": {},
            "outputs": [],
            "source": [
                "np.random.seed(seed=0)"
            ]
        },
        {
            "attachments": {},
            "cell_type": "markdown",
            "id": "ad8415d6",
            "metadata": {},
            "source": [
                "## Load NN control policy, $\\pi$"
            ]
        },
        {
            "cell_type": "code",
            "execution_count": 4,
            "id": "dba8a6c1",
            "metadata": {},
            "outputs": [
                {
                    "name": "stdout",
                    "output_type": "stream",
                    "text": [
                        "Sequential(\n",
                        "  (0): Linear(in_features=2, out_features=10, bias=True)\n",
                        "  (1): ReLU()\n",
                        "  (2): Linear(in_features=10, out_features=5, bias=True)\n",
                        "  (3): ReLU()\n",
                        "  (4): Linear(in_features=5, out_features=1, bias=True)\n",
                        ")\n"
                    ]
                }
            ],
            "source": [
                "controller = load_controller()\n",
                "print(controller)"
            ]
        },
        {
            "attachments": {},
            "cell_type": "markdown",
            "id": "affbd536",
            "metadata": {},
            "source": [
                "## Load dynamics model (double integrator), $\\mathbf{x}_{t+1} = f(\\mathbf{x}_t; \\pi)$"
            ]
        },
        {
            "cell_type": "code",
            "execution_count": 5,
            "id": "cb537da0",
            "metadata": {},
            "outputs": [
                {
                    "name": "stdout",
                    "output_type": "stream",
                    "text": [
                        "<nfl_veripy.dynamics.DoubleIntegrator.DoubleIntegrator object at 0x7fe2205e2950>\n"
                    ]
                }
            ],
            "source": [
                "dyn = dynamics.DoubleIntegrator()\n",
                "print(dyn)"
            ]
        },
        {
            "attachments": {},
            "cell_type": "markdown",
            "id": "ed51e252",
            "metadata": {},
            "source": [
                "## Define initial state set, $\\mathcal{X}_0$"
            ]
        },
        {
            "cell_type": "code",
            "execution_count": 6,
            "id": "e980277e",
            "metadata": {},
            "outputs": [
                {
                    "name": "stdout",
                    "output_type": "stream",
                    "text": [
                        "<nfl_veripy.constraints.Constraints.LpConstraint object at 0x7fe064c5be50>\n"
                    ]
                }
            ],
            "source": [
                "# Note: this notebook uses $\\ell_infty$-ball sets\n",
                "init_state_range = np.array(\n",
                "    [  # (num_inputs, 2)\n",
                "        [2.5, 3.0],  # x0min, x0max\n",
                "        [-0.25, 0.25],  # x1min, x1max\n",
                "    ]\n",
                ")\n",
                "\n",
                "# Convert these into constraint objects\n",
                "input_constraint = constraints.LpConstraint(\n",
                "    range=init_state_range, p=np.inf\n",
                ")\n",
                "output_constraint = constraints.LpConstraint(p=np.inf)\n",
                "print(input_constraint)"
            ]
        },
        {
            "attachments": {},
            "cell_type": "markdown",
            "id": "528c5a29",
            "metadata": {},
            "source": [
                "## Define partitioner hyperparameters"
            ]
        },
        {
            "cell_type": "code",
            "execution_count": 7,
            "id": "cf4c6c80",
            "metadata": {},
            "outputs": [],
            "source": [
                "partitioner_hyperparams = {\n",
                "    \"type\": \"GreedySimGuided\",\n",
                "    \"make_animation\": False,\n",
                "    \"show_animation\": False,\n",
                "}"
            ]
        },
        {
            "attachments": {},
            "cell_type": "markdown",
            "id": "e4065083",
            "metadata": {},
            "source": [
                "## Define propagator hyperparameters"
            ]
        },
        {
            "cell_type": "code",
            "execution_count": 8,
            "id": "73bba468",
            "metadata": {},
            "outputs": [],
            "source": [
                "propagator_hyperparams = {\n",
                "    \"type\": \"CROWN\",\n",
                "    \"input_shape\": init_state_range.shape[:-1],\n",
                "}"
            ]
        },
        {
            "attachments": {},
            "cell_type": "markdown",
            "id": "e4c2ea85",
            "metadata": {},
            "source": [
                "## Initialize analyzer, partitioner, propagator"
            ]
        },
        {
            "cell_type": "code",
            "execution_count": 9,
            "id": "dfad99c8",
            "metadata": {},
            "outputs": [
                {
                    "name": "stdout",
                    "output_type": "stream",
                    "text": [
                        "<nfl_veripy.analyzers.ClosedLoopAnalyzer.ClosedLoopAnalyzer object at 0x7fe2205e2f20>\n"
                    ]
                }
            ],
            "source": [
                "analyzer = analyzers.ClosedLoopAnalyzer(controller, dyn)\n",
                "analyzer.partitioner = partitioner_hyperparams\n",
                "analyzer.propagator = propagator_hyperparams\n",
                "print(analyzer)"
            ]
        },
        {
            "attachments": {},
            "cell_type": "markdown",
            "id": "b03a3c98",
            "metadata": {},
            "source": [
                "## Compute the reachable sets"
            ]
        },
        {
            "cell_type": "code",
            "execution_count": 12,
            "id": "1330ed50",
            "metadata": {},
            "outputs": [
                {
                    "name": "stdout",
                    "output_type": "stream",
                    "text": [
                        "[[[ 1.90837383  2.75      ]\n",
                        "  [-1.125      -0.70422709]]\n",
                        "\n",
                        " [[ 1.01761043  1.8305043 ]\n",
                        "  [-1.10589671 -0.80364931]]\n",
                        "\n",
                        " [[ 0.36083922  0.94537741]\n",
                        "  [-0.76938218 -0.4173409 ]]\n",
                        "\n",
                        " [[ 0.01732244  0.42632043]\n",
                        "  [-0.41059628 -0.14207698]]\n",
                        "\n",
                        " [[-0.21241178  0.24513717]\n",
                        "  [-0.21547569 -0.01699011]]]\n"
                    ]
                }
            ],
            "source": [
                "t_max = 5\n",
                "output_constraint, analyzer_info = analyzer.get_reachable_set(\n",
                "    input_constraint, t_max=t_max\n",
                ")\n",
                "print(output_constraint.range)\n",
                "# analyzer_info contains more details"
            ]
        },
        {
            "attachments": {},
            "cell_type": "markdown",
            "id": "93c13236",
            "metadata": {},
            "source": [
                "## Generate a visualization of the input/output mapping"
            ]
        },
        {
            "cell_type": "code",
            "execution_count": 14,
            "id": "3f80190f",
            "metadata": {},
            "outputs": [
                {
                    "ename": "AttributeError",
                    "evalue": "'ClosedLoopAnalyzer' object has no attribute '_visualizer'",
                    "output_type": "error",
                    "traceback": [
                        "\u001b[0;31m---------------------------------------------------------------------------\u001b[0m",
                        "\u001b[0;31mAttributeError\u001b[0m                            Traceback (most recent call last)",
                        "Cell \u001b[0;32mIn[14], line 1\u001b[0m\n\u001b[0;32m----> 1\u001b[0m analyzer\u001b[39m.\u001b[39;49mvisualize(\n\u001b[1;32m      2\u001b[0m     input_constraint,\n\u001b[1;32m      3\u001b[0m     output_constraint,\n\u001b[1;32m      4\u001b[0m     controller,\n\u001b[1;32m      5\u001b[0m     show_samples\u001b[39m=\u001b[39;49m\u001b[39mTrue\u001b[39;49;00m,\n\u001b[1;32m      6\u001b[0m     show\u001b[39m=\u001b[39;49m\u001b[39mTrue\u001b[39;49;00m,\n\u001b[1;32m      7\u001b[0m     labels\u001b[39m=\u001b[39;49m\u001b[39mNone\u001b[39;49;00m,\n\u001b[1;32m      8\u001b[0m     aspect\u001b[39m=\u001b[39;49m\u001b[39m\"\u001b[39;49m\u001b[39mauto\u001b[39;49m\u001b[39m\"\u001b[39;49m,\n\u001b[1;32m      9\u001b[0m     iteration\u001b[39m=\u001b[39;49m\u001b[39mNone\u001b[39;49;00m,\n\u001b[1;32m     10\u001b[0m     inputs_to_highlight\u001b[39m=\u001b[39;49m[{\u001b[39m\"\u001b[39;49m\u001b[39mdim\u001b[39;49m\u001b[39m\"\u001b[39;49m: [\u001b[39m0\u001b[39;49m], \u001b[39m\"\u001b[39;49m\u001b[39mname\u001b[39;49m\u001b[39m\"\u001b[39;49m: \u001b[39m\"\u001b[39;49m\u001b[39m$x_0$\u001b[39;49m\u001b[39m\"\u001b[39;49m}, {\u001b[39m\"\u001b[39;49m\u001b[39mdim\u001b[39;49m\u001b[39m\"\u001b[39;49m: [\u001b[39m1\u001b[39;49m], \u001b[39m\"\u001b[39;49m\u001b[39mname\u001b[39;49m\u001b[39m\"\u001b[39;49m: \u001b[39m\"\u001b[39;49m\u001b[39m$x_1$\u001b[39;49m\u001b[39m\"\u001b[39;49m}],\n\u001b[1;32m     11\u001b[0m     \u001b[39m*\u001b[39;49m\u001b[39m*\u001b[39;49manalyzer_info\n\u001b[1;32m     12\u001b[0m )\n",
                        "File \u001b[0;32m~/Code/nfl_veripy/src/nfl_veripy/analyzers/ClosedLoopAnalyzer.py:124\u001b[0m, in \u001b[0;36mClosedLoopAnalyzer.visualize\u001b[0;34m(self, initial_set, reachable_sets, network, **kwargs)\u001b[0m\n\u001b[1;32m    117\u001b[0m \u001b[39mdef\u001b[39;00m \u001b[39mvisualize\u001b[39m(\n\u001b[1;32m    118\u001b[0m     \u001b[39mself\u001b[39m,\n\u001b[1;32m    119\u001b[0m     initial_set: constraints\u001b[39m.\u001b[39mSingleTimestepConstraint,\n\u001b[0;32m   (...)\u001b[0m\n\u001b[1;32m    122\u001b[0m     \u001b[39m*\u001b[39m\u001b[39m*\u001b[39mkwargs,\n\u001b[1;32m    123\u001b[0m ) \u001b[39m-\u001b[39m\u001b[39m>\u001b[39m \u001b[39mNone\u001b[39;00m:\n\u001b[0;32m--> 124\u001b[0m     \u001b[39mself\u001b[39;49m\u001b[39m.\u001b[39;49mvisualizer\u001b[39m.\u001b[39mvisualize(\n\u001b[1;32m    125\u001b[0m         initial_set, reachable_sets, network, \u001b[39m*\u001b[39m\u001b[39m*\u001b[39mkwargs\n\u001b[1;32m    126\u001b[0m     )\n",
                        "File \u001b[0;32m~/Code/nfl_veripy/src/nfl_veripy/analyzers/Analyzer.py:72\u001b[0m, in \u001b[0;36mAnalyzer.visualizer\u001b[0;34m(self)\u001b[0m\n\u001b[1;32m     70\u001b[0m \u001b[39m@property\u001b[39m\n\u001b[1;32m     71\u001b[0m \u001b[39mdef\u001b[39;00m \u001b[39mvisualizer\u001b[39m(\u001b[39mself\u001b[39m):\n\u001b[0;32m---> 72\u001b[0m     \u001b[39mreturn\u001b[39;00m \u001b[39mself\u001b[39;49m\u001b[39m.\u001b[39;49m_visualizer\n",
                        "\u001b[0;31mAttributeError\u001b[0m: 'ClosedLoopAnalyzer' object has no attribute '_visualizer'"
                    ]
                }
            ],
            "source": [
                "analyzer.visualize(\n",
                "    input_constraint,\n",
                "    output_constraint,\n",
                "    controller,\n",
                "    show_samples=True,\n",
                "    show=True,\n",
                "    labels=None,\n",
                "    aspect=\"auto\",\n",
                "    iteration=None,\n",
                "    inputs_to_highlight=[{\"dim\": [0], \"name\": \"$x_0$\"}, {\"dim\": [1], \"name\": \"$x_1$\"}],\n",
                "    **analyzer_info\n",
                ")"
            ]
        },
        {
            "attachments": {},
            "cell_type": "markdown",
            "id": "6a26af42",
            "metadata": {},
            "source": [
                "## Estimate the output set error"
            ]
        },
        {
            "cell_type": "code",
            "execution_count": 11,
            "id": "383cee72",
            "metadata": {},
            "outputs": [
                {
                    "name": "stdout",
                    "output_type": "stream",
                    "text": [
                        "Final step approximation error: 19.02\n",
                        "Average approximation error: 4.54\n",
                        "All errors: [ 0.24167679  0.38787424  0.65314041  2.40027115 19.01889623]\n"
                    ]
                }
            ],
            "source": [
                "final_error, avg_error, errors = analyzer.get_error(input_constraint, output_constraint, t_max=t_max)\n",
                "print('Final step approximation error: {:.2f}'.format(final_error))\n",
                "print('Average approximation error: {:.2f}'.format(avg_error))\n",
                "print('All errors: {}'.format(errors))"
            ]
        },
        {
            "cell_type": "code",
            "execution_count": null,
            "id": "92efd491",
            "metadata": {},
            "outputs": [],
            "source": []
        }
    ],
    "metadata": {
        "kernelspec": {
            "display_name": "nfl_veripy",
            "language": "python",
            "name": "python3"
        },
        "language_info": {
            "codemirror_mode": {
                "name": "ipython",
                "version": 3
            },
            "file_extension": ".py",
            "mimetype": "text/x-python",
            "name": "python",
            "nbconvert_exporter": "python",
            "pygments_lexer": "ipython3",
            "version": "3.10.12"
        }
    },
    "nbformat": 4,
    "nbformat_minor": 5
}
